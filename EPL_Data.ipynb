{
 "cells": [
  {
   "cell_type": "code",
   "execution_count": 1,
   "id": "88116b13",
   "metadata": {},
   "outputs": [],
   "source": [
    "import pandas as pd"
   ]
  },
  {
   "cell_type": "code",
   "execution_count": 2,
   "id": "c6c4a48f",
   "metadata": {},
   "outputs": [
    {
     "data": {
      "text/html": [
       "<div>\n",
       "<style scoped>\n",
       "    .dataframe tbody tr th:only-of-type {\n",
       "        vertical-align: middle;\n",
       "    }\n",
       "\n",
       "    .dataframe tbody tr th {\n",
       "        vertical-align: top;\n",
       "    }\n",
       "\n",
       "    .dataframe thead th {\n",
       "        text-align: right;\n",
       "    }\n",
       "</style>\n",
       "<table border=\"1\" class=\"dataframe\">\n",
       "  <thead>\n",
       "    <tr style=\"text-align: right;\">\n",
       "      <th></th>\n",
       "      <th>Rk</th>\n",
       "      <th>Player</th>\n",
       "      <th>Nation</th>\n",
       "      <th>Pos</th>\n",
       "      <th>Squad</th>\n",
       "      <th>Age</th>\n",
       "      <th>Born</th>\n",
       "      <th>MP</th>\n",
       "      <th>Starts</th>\n",
       "      <th>Min</th>\n",
       "      <th>...</th>\n",
       "      <th>xG</th>\n",
       "      <th>npxG</th>\n",
       "      <th>xA</th>\n",
       "      <th>npxG+xA</th>\n",
       "      <th>xG.1</th>\n",
       "      <th>xA.1</th>\n",
       "      <th>xG+xA</th>\n",
       "      <th>npxG.1</th>\n",
       "      <th>npxG+xA.1</th>\n",
       "      <th>Matches</th>\n",
       "    </tr>\n",
       "  </thead>\n",
       "  <tbody>\n",
       "    <tr>\n",
       "      <th>0</th>\n",
       "      <td>1</td>\n",
       "      <td>Max Aarons</td>\n",
       "      <td>eng ENG</td>\n",
       "      <td>DF</td>\n",
       "      <td>Norwich City</td>\n",
       "      <td>21</td>\n",
       "      <td>2000</td>\n",
       "      <td>34</td>\n",
       "      <td>32</td>\n",
       "      <td>2881</td>\n",
       "      <td>...</td>\n",
       "      <td>0.7</td>\n",
       "      <td>0.7</td>\n",
       "      <td>1.4</td>\n",
       "      <td>2.1</td>\n",
       "      <td>0.02</td>\n",
       "      <td>0.04</td>\n",
       "      <td>0.07</td>\n",
       "      <td>0.02</td>\n",
       "      <td>0.07</td>\n",
       "      <td>Matches</td>\n",
       "    </tr>\n",
       "    <tr>\n",
       "      <th>1</th>\n",
       "      <td>2</td>\n",
       "      <td>Che Adams</td>\n",
       "      <td>sct SCO</td>\n",
       "      <td>FW</td>\n",
       "      <td>Southampton</td>\n",
       "      <td>25</td>\n",
       "      <td>1996</td>\n",
       "      <td>30</td>\n",
       "      <td>23</td>\n",
       "      <td>2039</td>\n",
       "      <td>...</td>\n",
       "      <td>7.1</td>\n",
       "      <td>7.1</td>\n",
       "      <td>2.6</td>\n",
       "      <td>9.7</td>\n",
       "      <td>0.31</td>\n",
       "      <td>0.12</td>\n",
       "      <td>0.43</td>\n",
       "      <td>0.31</td>\n",
       "      <td>0.43</td>\n",
       "      <td>Matches</td>\n",
       "    </tr>\n",
       "    <tr>\n",
       "      <th>2</th>\n",
       "      <td>3</td>\n",
       "      <td>Rayan Aït Nouri</td>\n",
       "      <td>fr FRA</td>\n",
       "      <td>DF</td>\n",
       "      <td>Wolves</td>\n",
       "      <td>20</td>\n",
       "      <td>2001</td>\n",
       "      <td>23</td>\n",
       "      <td>20</td>\n",
       "      <td>1828</td>\n",
       "      <td>...</td>\n",
       "      <td>0.7</td>\n",
       "      <td>0.7</td>\n",
       "      <td>1.3</td>\n",
       "      <td>2.1</td>\n",
       "      <td>0.04</td>\n",
       "      <td>0.07</td>\n",
       "      <td>0.10</td>\n",
       "      <td>0.04</td>\n",
       "      <td>0.10</td>\n",
       "      <td>Matches</td>\n",
       "    </tr>\n",
       "    <tr>\n",
       "      <th>3</th>\n",
       "      <td>4</td>\n",
       "      <td>Kristoffer Ajer</td>\n",
       "      <td>no NOR</td>\n",
       "      <td>DF</td>\n",
       "      <td>Brentford</td>\n",
       "      <td>23</td>\n",
       "      <td>1998</td>\n",
       "      <td>24</td>\n",
       "      <td>23</td>\n",
       "      <td>1995</td>\n",
       "      <td>...</td>\n",
       "      <td>0.8</td>\n",
       "      <td>0.8</td>\n",
       "      <td>1.4</td>\n",
       "      <td>2.2</td>\n",
       "      <td>0.04</td>\n",
       "      <td>0.06</td>\n",
       "      <td>0.10</td>\n",
       "      <td>0.04</td>\n",
       "      <td>0.10</td>\n",
       "      <td>Matches</td>\n",
       "    </tr>\n",
       "    <tr>\n",
       "      <th>4</th>\n",
       "      <td>5</td>\n",
       "      <td>Nathan Aké</td>\n",
       "      <td>nl NED</td>\n",
       "      <td>DF</td>\n",
       "      <td>Manchester City</td>\n",
       "      <td>26</td>\n",
       "      <td>1995</td>\n",
       "      <td>14</td>\n",
       "      <td>10</td>\n",
       "      <td>923</td>\n",
       "      <td>...</td>\n",
       "      <td>1.1</td>\n",
       "      <td>1.1</td>\n",
       "      <td>0.5</td>\n",
       "      <td>1.6</td>\n",
       "      <td>0.11</td>\n",
       "      <td>0.05</td>\n",
       "      <td>0.16</td>\n",
       "      <td>0.11</td>\n",
       "      <td>0.16</td>\n",
       "      <td>Matches</td>\n",
       "    </tr>\n",
       "  </tbody>\n",
       "</table>\n",
       "<p>5 rows × 33 columns</p>\n",
       "</div>"
      ],
      "text/plain": [
       "   Rk           Player   Nation Pos            Squad  Age  Born  MP  Starts  \\\n",
       "0   1       Max Aarons  eng ENG  DF     Norwich City   21  2000  34      32   \n",
       "1   2        Che Adams  sct SCO  FW      Southampton   25  1996  30      23   \n",
       "2   3  Rayan Aït Nouri   fr FRA  DF           Wolves   20  2001  23      20   \n",
       "3   4  Kristoffer Ajer   no NOR  DF        Brentford   23  1998  24      23   \n",
       "4   5       Nathan Aké   nl NED  DF  Manchester City   26  1995  14      10   \n",
       "\n",
       "    Min  ...   xG  npxG   xA  npxG+xA  xG.1  xA.1  xG+xA  npxG.1  npxG+xA.1  \\\n",
       "0  2881  ...  0.7   0.7  1.4      2.1  0.02  0.04   0.07    0.02       0.07   \n",
       "1  2039  ...  7.1   7.1  2.6      9.7  0.31  0.12   0.43    0.31       0.43   \n",
       "2  1828  ...  0.7   0.7  1.3      2.1  0.04  0.07   0.10    0.04       0.10   \n",
       "3  1995  ...  0.8   0.8  1.4      2.2  0.04  0.06   0.10    0.04       0.10   \n",
       "4   923  ...  1.1   1.1  0.5      1.6  0.11  0.05   0.16    0.11       0.16   \n",
       "\n",
       "   Matches  \n",
       "0  Matches  \n",
       "1  Matches  \n",
       "2  Matches  \n",
       "3  Matches  \n",
       "4  Matches  \n",
       "\n",
       "[5 rows x 33 columns]"
      ]
     },
     "execution_count": 2,
     "metadata": {},
     "output_type": "execute_result"
    }
   ],
   "source": [
    "df = pd.read_csv('standard_stat.csv',encoding='latin-1')\n",
    "df.head()"
   ]
  },
  {
   "cell_type": "code",
   "execution_count": 3,
   "id": "5f82084f",
   "metadata": {},
   "outputs": [
    {
     "name": "stdout",
     "output_type": "stream",
     "text": [
      "<class 'pandas.core.frame.DataFrame'>\n",
      "RangeIndex: 546 entries, 0 to 545\n",
      "Data columns (total 33 columns):\n",
      " #   Column     Non-Null Count  Dtype  \n",
      "---  ------     --------------  -----  \n",
      " 0   Rk         546 non-null    int64  \n",
      " 1   Player     546 non-null    object \n",
      " 2   Nation     546 non-null    object \n",
      " 3   Pos        546 non-null    object \n",
      " 4   Squad      546 non-null    object \n",
      " 5   Age        546 non-null    int64  \n",
      " 6   Born       546 non-null    int64  \n",
      " 7   MP         546 non-null    int64  \n",
      " 8   Starts     546 non-null    int64  \n",
      " 9   Min        546 non-null    int64  \n",
      " 10  90s        546 non-null    float64\n",
      " 11  Gls        546 non-null    int64  \n",
      " 12  Ast        546 non-null    int64  \n",
      " 13  G-PK       546 non-null    int64  \n",
      " 14  PK         546 non-null    int64  \n",
      " 15  PKatt      546 non-null    int64  \n",
      " 16  CrdY       546 non-null    int64  \n",
      " 17  CrdR       546 non-null    int64  \n",
      " 18  Gls.1      546 non-null    float64\n",
      " 19  Ast.1      546 non-null    float64\n",
      " 20  G+A        546 non-null    float64\n",
      " 21  G-PK.1     546 non-null    float64\n",
      " 22  G+A-PK     546 non-null    float64\n",
      " 23  xG         546 non-null    float64\n",
      " 24  npxG       546 non-null    float64\n",
      " 25  xA         546 non-null    float64\n",
      " 26  npxG+xA    546 non-null    float64\n",
      " 27  xG.1       546 non-null    float64\n",
      " 28  xA.1       546 non-null    float64\n",
      " 29  xG+xA      546 non-null    float64\n",
      " 30  npxG.1     546 non-null    float64\n",
      " 31  npxG+xA.1  546 non-null    float64\n",
      " 32  Matches    546 non-null    object \n",
      "dtypes: float64(15), int64(13), object(5)\n",
      "memory usage: 140.9+ KB\n"
     ]
    }
   ],
   "source": [
    "df.info()"
   ]
  },
  {
   "cell_type": "code",
   "execution_count": 5,
   "id": "ea0cabf2",
   "metadata": {},
   "outputs": [
    {
     "data": {
      "text/plain": [
       "False"
      ]
     },
     "execution_count": 5,
     "metadata": {},
     "output_type": "execute_result"
    }
   ],
   "source": [
    "df.isnull().values.any()"
   ]
  },
  {
   "cell_type": "code",
   "execution_count": 7,
   "id": "d290ab68",
   "metadata": {},
   "outputs": [],
   "source": [
    "df = pd.read_csv('PlayingTime.csv',encoding='latin-1')"
   ]
  },
  {
   "cell_type": "code",
   "execution_count": 8,
   "id": "3562eb31",
   "metadata": {},
   "outputs": [
    {
     "data": {
      "text/html": [
       "<div>\n",
       "<style scoped>\n",
       "    .dataframe tbody tr th:only-of-type {\n",
       "        vertical-align: middle;\n",
       "    }\n",
       "\n",
       "    .dataframe tbody tr th {\n",
       "        vertical-align: top;\n",
       "    }\n",
       "\n",
       "    .dataframe thead th {\n",
       "        text-align: right;\n",
       "    }\n",
       "</style>\n",
       "<table border=\"1\" class=\"dataframe\">\n",
       "  <thead>\n",
       "    <tr style=\"text-align: right;\">\n",
       "      <th></th>\n",
       "      <th>Rk</th>\n",
       "      <th>Player</th>\n",
       "      <th>Nation</th>\n",
       "      <th>Pos</th>\n",
       "      <th>Squad</th>\n",
       "      <th>Age</th>\n",
       "      <th>Born</th>\n",
       "      <th>MP</th>\n",
       "      <th>Min</th>\n",
       "      <th>Mn/MP</th>\n",
       "      <th>...</th>\n",
       "      <th>onGA</th>\n",
       "      <th>+/-</th>\n",
       "      <th>+/-90</th>\n",
       "      <th>On-Off</th>\n",
       "      <th>onxG</th>\n",
       "      <th>onxGA</th>\n",
       "      <th>xG+/-</th>\n",
       "      <th>xG+/-90</th>\n",
       "      <th>On-Off.1</th>\n",
       "      <th>Matches</th>\n",
       "    </tr>\n",
       "  </thead>\n",
       "  <tbody>\n",
       "    <tr>\n",
       "      <th>0</th>\n",
       "      <td>1</td>\n",
       "      <td>Max Aarons</td>\n",
       "      <td>eng ENG</td>\n",
       "      <td>DF</td>\n",
       "      <td>Norwich City</td>\n",
       "      <td>21.0</td>\n",
       "      <td>2000.0</td>\n",
       "      <td>34</td>\n",
       "      <td>2881.0</td>\n",
       "      <td>85.0</td>\n",
       "      <td>...</td>\n",
       "      <td>69.0</td>\n",
       "      <td>-51.0</td>\n",
       "      <td>-1.59</td>\n",
       "      <td>0.08</td>\n",
       "      <td>25.8</td>\n",
       "      <td>60.8</td>\n",
       "      <td>-35.0</td>\n",
       "      <td>-1.09</td>\n",
       "      <td>0.35</td>\n",
       "      <td>Matches</td>\n",
       "    </tr>\n",
       "  </tbody>\n",
       "</table>\n",
       "<p>1 rows × 30 columns</p>\n",
       "</div>"
      ],
      "text/plain": [
       "   Rk      Player   Nation Pos         Squad   Age    Born  MP     Min  Mn/MP  \\\n",
       "0   1  Max Aarons  eng ENG  DF  Norwich City  21.0  2000.0  34  2881.0   85.0   \n",
       "\n",
       "   ...  onGA   +/-  +/-90  On-Off  onxG  onxGA  xG+/-  xG+/-90  On-Off.1  \\\n",
       "0  ...  69.0 -51.0  -1.59    0.08  25.8   60.8  -35.0    -1.09      0.35   \n",
       "\n",
       "   Matches  \n",
       "0  Matches  \n",
       "\n",
       "[1 rows x 30 columns]"
      ]
     },
     "execution_count": 8,
     "metadata": {},
     "output_type": "execute_result"
    }
   ],
   "source": [
    "df.head(1)\n"
   ]
  },
  {
   "cell_type": "code",
   "execution_count": 9,
   "id": "7908a9e9",
   "metadata": {},
   "outputs": [
    {
     "name": "stdout",
     "output_type": "stream",
     "text": [
      "<class 'pandas.core.frame.DataFrame'>\n",
      "RangeIndex: 691 entries, 0 to 690\n",
      "Data columns (total 30 columns):\n",
      " #   Column    Non-Null Count  Dtype  \n",
      "---  ------    --------------  -----  \n",
      " 0   Rk        691 non-null    int64  \n",
      " 1   Player    691 non-null    object \n",
      " 2   Nation    688 non-null    object \n",
      " 3   Pos       691 non-null    object \n",
      " 4   Squad     691 non-null    object \n",
      " 5   Age       687 non-null    float64\n",
      " 6   Born      687 non-null    float64\n",
      " 7   MP        691 non-null    int64  \n",
      " 8   Min       546 non-null    float64\n",
      " 9   Mn/MP     546 non-null    float64\n",
      " 10  Min%      547 non-null    float64\n",
      " 11  90s       547 non-null    float64\n",
      " 12  Starts    691 non-null    int64  \n",
      " 13  Mn/Start  492 non-null    float64\n",
      " 14  Compl     691 non-null    int64  \n",
      " 15  Subs      691 non-null    int64  \n",
      " 16  Mn/Sub    435 non-null    float64\n",
      " 17  unSub     691 non-null    int64  \n",
      " 18  PPM       547 non-null    float64\n",
      " 19  onG       547 non-null    float64\n",
      " 20  onGA      547 non-null    float64\n",
      " 21  +/-       547 non-null    float64\n",
      " 22  +/-90     546 non-null    float64\n",
      " 23  On-Off    544 non-null    float64\n",
      " 24  onxG      546 non-null    float64\n",
      " 25  onxGA     546 non-null    float64\n",
      " 26  xG+/-     546 non-null    float64\n",
      " 27  xG+/-90   546 non-null    float64\n",
      " 28  On-Off.1  544 non-null    float64\n",
      " 29  Matches   691 non-null    object \n",
      "dtypes: float64(19), int64(6), object(5)\n",
      "memory usage: 162.1+ KB\n"
     ]
    }
   ],
   "source": [
    "df.info()\n"
   ]
  },
  {
   "cell_type": "code",
   "execution_count": 10,
   "id": "2631591c",
   "metadata": {},
   "outputs": [
    {
     "data": {
      "text/plain": [
       "True"
      ]
     },
     "execution_count": 10,
     "metadata": {},
     "output_type": "execute_result"
    }
   ],
   "source": [
    "df.isnull().values.any()"
   ]
  },
  {
   "cell_type": "code",
   "execution_count": 11,
   "id": "5337a64b",
   "metadata": {},
   "outputs": [
    {
     "data": {
      "text/plain": [
       "Rk          False\n",
       "Player      False\n",
       "Nation       True\n",
       "Pos         False\n",
       "Squad       False\n",
       "Age          True\n",
       "Born         True\n",
       "MP          False\n",
       "Min          True\n",
       "Mn/MP        True\n",
       "Min%         True\n",
       "90s          True\n",
       "Starts      False\n",
       "Mn/Start     True\n",
       "Compl       False\n",
       "Subs        False\n",
       "Mn/Sub       True\n",
       "unSub       False\n",
       "PPM          True\n",
       "onG          True\n",
       "onGA         True\n",
       "+/-          True\n",
       "+/-90        True\n",
       "On-Off       True\n",
       "onxG         True\n",
       "onxGA        True\n",
       "xG+/-        True\n",
       "xG+/-90      True\n",
       "On-Off.1     True\n",
       "Matches     False\n",
       "dtype: bool"
      ]
     },
     "execution_count": 11,
     "metadata": {},
     "output_type": "execute_result"
    }
   ],
   "source": [
    "df.isnull().any()"
   ]
  },
  {
   "cell_type": "code",
   "execution_count": 12,
   "id": "2543b55d",
   "metadata": {},
   "outputs": [
    {
     "data": {
      "text/plain": [
       "0      False\n",
       "1      False\n",
       "2      False\n",
       "3      False\n",
       "4      False\n",
       "       ...  \n",
       "686    False\n",
       "687    False\n",
       "688    False\n",
       "689    False\n",
       "690    False\n",
       "Length: 691, dtype: bool"
      ]
     },
     "execution_count": 12,
     "metadata": {},
     "output_type": "execute_result"
    }
   ],
   "source": [
    "df.duplicated()"
   ]
  },
  {
   "cell_type": "code",
   "execution_count": 13,
   "id": "a7226232",
   "metadata": {},
   "outputs": [
    {
     "data": {
      "text/plain": [
       "0"
      ]
     },
     "execution_count": 13,
     "metadata": {},
     "output_type": "execute_result"
    }
   ],
   "source": [
    "sum(df.duplicated())"
   ]
  },
  {
   "cell_type": "code",
   "execution_count": 15,
   "id": "8f1b5f82",
   "metadata": {},
   "outputs": [
    {
     "name": "stdout",
     "output_type": "stream",
     "text": [
      "<class 'pandas.core.frame.DataFrame'>\n",
      "RangeIndex: 546 entries, 0 to 545\n",
      "Data columns (total 32 columns):\n",
      " #   Column     Non-Null Count  Dtype  \n",
      "---  ------     --------------  -----  \n",
      " 0   Rk         546 non-null    int64  \n",
      " 1   Player     546 non-null    object \n",
      " 2   Nation     546 non-null    object \n",
      " 3   Pos        546 non-null    object \n",
      " 4   Squad      546 non-null    object \n",
      " 5   Age        546 non-null    int64  \n",
      " 6   Born       546 non-null    int64  \n",
      " 7   90s        546 non-null    float64\n",
      " 8   Tkl        546 non-null    int64  \n",
      " 9   TklW       546 non-null    int64  \n",
      " 10  Def 3rd    546 non-null    int64  \n",
      " 11  Mid 3rd    546 non-null    int64  \n",
      " 12  Att 3rd    546 non-null    int64  \n",
      " 13  Tkl.1      546 non-null    int64  \n",
      " 14  Att        546 non-null    int64  \n",
      " 15  Tkl%       483 non-null    float64\n",
      " 16  Past       546 non-null    int64  \n",
      " 17  Press      546 non-null    int64  \n",
      " 18  Succ       546 non-null    int64  \n",
      " 19  %          521 non-null    float64\n",
      " 20  Def 3rd.1  546 non-null    int64  \n",
      " 21  Mid 3rd.1  546 non-null    int64  \n",
      " 22  Att 3rd.1  546 non-null    int64  \n",
      " 23  Blocks     546 non-null    int64  \n",
      " 24  Sh         546 non-null    int64  \n",
      " 25  ShSv       546 non-null    int64  \n",
      " 26  Pass       546 non-null    int64  \n",
      " 27  Int        546 non-null    int64  \n",
      " 28  Tkl+Int    546 non-null    int64  \n",
      " 29  Clr        546 non-null    int64  \n",
      " 30  Err        546 non-null    int64  \n",
      " 31  Matches    546 non-null    object \n",
      "dtypes: float64(3), int64(24), object(5)\n",
      "memory usage: 136.6+ KB\n"
     ]
    }
   ],
   "source": [
    "df = pd.read_csv('DefenseAction.csv',encoding='latin-1')\n",
    "df.head()\n",
    "df.info()"
   ]
  },
  {
   "cell_type": "code",
   "execution_count": 16,
   "id": "07cd76bb",
   "metadata": {},
   "outputs": [
    {
     "data": {
      "text/plain": [
       "True"
      ]
     },
     "execution_count": 16,
     "metadata": {},
     "output_type": "execute_result"
    }
   ],
   "source": [
    "df.isnull().values.any()\n"
   ]
  },
  {
   "cell_type": "code",
   "execution_count": 17,
   "id": "c56a0bb3",
   "metadata": {},
   "outputs": [
    {
     "data": {
      "text/plain": [
       "Rk           False\n",
       "Player       False\n",
       "Nation       False\n",
       "Pos          False\n",
       "Squad        False\n",
       "Age          False\n",
       "Born         False\n",
       "90s          False\n",
       "Tkl          False\n",
       "TklW         False\n",
       "Def 3rd      False\n",
       "Mid 3rd      False\n",
       "Att 3rd      False\n",
       "Tkl.1        False\n",
       "Att          False\n",
       "Tkl%          True\n",
       "Past         False\n",
       "Press        False\n",
       "Succ         False\n",
       "%             True\n",
       "Def 3rd.1    False\n",
       "Mid 3rd.1    False\n",
       "Att 3rd.1    False\n",
       "Blocks       False\n",
       "Sh           False\n",
       "ShSv         False\n",
       "Pass         False\n",
       "Int          False\n",
       "Tkl+Int      False\n",
       "Clr          False\n",
       "Err          False\n",
       "Matches      False\n",
       "dtype: bool"
      ]
     },
     "execution_count": 17,
     "metadata": {},
     "output_type": "execute_result"
    }
   ],
   "source": [
    "df.isnull().any()"
   ]
  },
  {
   "cell_type": "code",
   "execution_count": 18,
   "id": "22eba4a4",
   "metadata": {},
   "outputs": [
    {
     "name": "stdout",
     "output_type": "stream",
     "text": [
      "<class 'pandas.core.frame.DataFrame'>\n",
      "RangeIndex: 546 entries, 0 to 545\n",
      "Data columns (total 33 columns):\n",
      " #   Column   Non-Null Count  Dtype  \n",
      "---  ------   --------------  -----  \n",
      " 0   Rk       546 non-null    int64  \n",
      " 1   Player   546 non-null    object \n",
      " 2   Nation   546 non-null    object \n",
      " 3   Pos      546 non-null    object \n",
      " 4   Squad    546 non-null    object \n",
      " 5   Age      546 non-null    int64  \n",
      " 6   Born     546 non-null    int64  \n",
      " 7   90s      546 non-null    float64\n",
      " 8   Touches  546 non-null    int64  \n",
      " 9   Def Pen  546 non-null    int64  \n",
      " 10  Def 3rd  546 non-null    int64  \n",
      " 11  Mid 3rd  546 non-null    int64  \n",
      " 12  Att 3rd  546 non-null    int64  \n",
      " 13  Att Pen  546 non-null    int64  \n",
      " 14  Live     546 non-null    int64  \n",
      " 15  Succ     546 non-null    int64  \n",
      " 16  Att      546 non-null    int64  \n",
      " 17  Succ%    465 non-null    float64\n",
      " 18  #Pl      546 non-null    int64  \n",
      " 19  Megs     546 non-null    int64  \n",
      " 20  Carries  546 non-null    int64  \n",
      " 21  TotDist  546 non-null    int64  \n",
      " 22  PrgDist  546 non-null    int64  \n",
      " 23  Prog     546 non-null    int64  \n",
      " 24  03-Jan   546 non-null    int64  \n",
      " 25  CPA      546 non-null    int64  \n",
      " 26  Mis      546 non-null    int64  \n",
      " 27  Dis      546 non-null    int64  \n",
      " 28  Targ     546 non-null    int64  \n",
      " 29  Rec      546 non-null    int64  \n",
      " 30  Rec%     543 non-null    float64\n",
      " 31  Prog.1   546 non-null    int64  \n",
      " 32  Matches  546 non-null    object \n",
      "dtypes: float64(3), int64(25), object(5)\n",
      "memory usage: 140.9+ KB\n"
     ]
    }
   ],
   "source": [
    "df = pd.read_csv('PlayerPossesion.csv',encoding='latin-1')\n",
    "df.head()\n",
    "df.info()"
   ]
  },
  {
   "cell_type": "code",
   "execution_count": 19,
   "id": "dedcb902",
   "metadata": {},
   "outputs": [
    {
     "data": {
      "text/plain": [
       "True"
      ]
     },
     "execution_count": 19,
     "metadata": {},
     "output_type": "execute_result"
    }
   ],
   "source": [
    "df.isnull().values.any()"
   ]
  },
  {
   "cell_type": "code",
   "execution_count": 20,
   "id": "d50ec22b",
   "metadata": {},
   "outputs": [
    {
     "data": {
      "text/plain": [
       "Rk         False\n",
       "Player     False\n",
       "Nation     False\n",
       "Pos        False\n",
       "Squad      False\n",
       "Age        False\n",
       "Born       False\n",
       "90s        False\n",
       "Touches    False\n",
       "Def Pen    False\n",
       "Def 3rd    False\n",
       "Mid 3rd    False\n",
       "Att 3rd    False\n",
       "Att Pen    False\n",
       "Live       False\n",
       "Succ       False\n",
       "Att        False\n",
       "Succ%       True\n",
       "#Pl        False\n",
       "Megs       False\n",
       "Carries    False\n",
       "TotDist    False\n",
       "PrgDist    False\n",
       "Prog       False\n",
       "03-Jan     False\n",
       "CPA        False\n",
       "Mis        False\n",
       "Dis        False\n",
       "Targ       False\n",
       "Rec        False\n",
       "Rec%        True\n",
       "Prog.1     False\n",
       "Matches    False\n",
       "dtype: bool"
      ]
     },
     "execution_count": 20,
     "metadata": {},
     "output_type": "execute_result"
    }
   ],
   "source": [
    "df.isnull().any()"
   ]
  },
  {
   "cell_type": "code",
   "execution_count": 21,
   "id": "23f91c01",
   "metadata": {},
   "outputs": [
    {
     "name": "stdout",
     "output_type": "stream",
     "text": [
      "<class 'pandas.core.frame.DataFrame'>\n",
      "RangeIndex: 546 entries, 0 to 545\n",
      "Data columns (total 31 columns):\n",
      " #   Column   Non-Null Count  Dtype  \n",
      "---  ------   --------------  -----  \n",
      " 0   Rk       546 non-null    int64  \n",
      " 1   Player   546 non-null    object \n",
      " 2   Nation   546 non-null    object \n",
      " 3   Pos      546 non-null    object \n",
      " 4   Squad    546 non-null    object \n",
      " 5   Age      546 non-null    int64  \n",
      " 6   Born     546 non-null    int64  \n",
      " 7   90s      546 non-null    float64\n",
      " 8   Cmp      546 non-null    int64  \n",
      " 9   Att      546 non-null    int64  \n",
      " 10  Cmp%     543 non-null    float64\n",
      " 11  TotDist  546 non-null    int64  \n",
      " 12  PrgDist  546 non-null    int64  \n",
      " 13  Cmp.1    546 non-null    int64  \n",
      " 14  Att.1    546 non-null    int64  \n",
      " 15  Cmp%.1   535 non-null    float64\n",
      " 16  Cmp.2    546 non-null    int64  \n",
      " 17  Att.2    546 non-null    int64  \n",
      " 18  Cmp%.2   532 non-null    float64\n",
      " 19  Cmp.3    546 non-null    int64  \n",
      " 20  Att.3    546 non-null    int64  \n",
      " 21  Cmp%.3   519 non-null    float64\n",
      " 22  Ast      546 non-null    int64  \n",
      " 23  xA       546 non-null    float64\n",
      " 24  A-xA     546 non-null    float64\n",
      " 25  KP       546 non-null    int64  \n",
      " 26  03-Jan   546 non-null    int64  \n",
      " 27  PPA      546 non-null    int64  \n",
      " 28  CrsPA    546 non-null    int64  \n",
      " 29  Prog     546 non-null    int64  \n",
      " 30  Matches  546 non-null    object \n",
      "dtypes: float64(7), int64(19), object(5)\n",
      "memory usage: 132.4+ KB\n"
     ]
    }
   ],
   "source": [
    "df = pd.read_csv('PassingStat.csv',encoding='latin-1')\n",
    "df.head()\n",
    "df.info()"
   ]
  },
  {
   "cell_type": "code",
   "execution_count": 22,
   "id": "1cf7609e",
   "metadata": {},
   "outputs": [
    {
     "data": {
      "text/plain": [
       "True"
      ]
     },
     "execution_count": 22,
     "metadata": {},
     "output_type": "execute_result"
    }
   ],
   "source": [
    "df.isnull().values.any()\n"
   ]
  },
  {
   "cell_type": "code",
   "execution_count": 23,
   "id": "69a321c0",
   "metadata": {},
   "outputs": [
    {
     "data": {
      "text/plain": [
       "Rk         False\n",
       "Player     False\n",
       "Nation     False\n",
       "Pos        False\n",
       "Squad      False\n",
       "Age        False\n",
       "Born       False\n",
       "90s        False\n",
       "Cmp        False\n",
       "Att        False\n",
       "Cmp%        True\n",
       "TotDist    False\n",
       "PrgDist    False\n",
       "Cmp.1      False\n",
       "Att.1      False\n",
       "Cmp%.1      True\n",
       "Cmp.2      False\n",
       "Att.2      False\n",
       "Cmp%.2      True\n",
       "Cmp.3      False\n",
       "Att.3      False\n",
       "Cmp%.3      True\n",
       "Ast        False\n",
       "xA         False\n",
       "A-xA       False\n",
       "KP         False\n",
       "03-Jan     False\n",
       "PPA        False\n",
       "CrsPA      False\n",
       "Prog       False\n",
       "Matches    False\n",
       "dtype: bool"
      ]
     },
     "execution_count": 23,
     "metadata": {},
     "output_type": "execute_result"
    }
   ],
   "source": [
    "df.isnull().any()"
   ]
  },
  {
   "cell_type": "code",
   "execution_count": 24,
   "id": "10451101",
   "metadata": {},
   "outputs": [
    {
     "name": "stdout",
     "output_type": "stream",
     "text": [
      "<class 'pandas.core.frame.DataFrame'>\n",
      "RangeIndex: 546 entries, 0 to 545\n",
      "Data columns (total 26 columns):\n",
      " #   Column   Non-Null Count  Dtype  \n",
      "---  ------   --------------  -----  \n",
      " 0   Rk       546 non-null    int64  \n",
      " 1   Player   546 non-null    object \n",
      " 2   Nation   546 non-null    object \n",
      " 3   Pos      546 non-null    object \n",
      " 4   Squad    546 non-null    object \n",
      " 5   Age      546 non-null    int64  \n",
      " 6   Born     546 non-null    int64  \n",
      " 7   90s      546 non-null    float64\n",
      " 8   Gls      546 non-null    int64  \n",
      " 9   Sh       546 non-null    int64  \n",
      " 10  SoT      546 non-null    int64  \n",
      " 11  SoT%     452 non-null    float64\n",
      " 12  Sh/90    546 non-null    float64\n",
      " 13  SoT/90   546 non-null    float64\n",
      " 14  G/Sh     452 non-null    float64\n",
      " 15  G/SoT    389 non-null    float64\n",
      " 16  Dist     452 non-null    float64\n",
      " 17  FK       546 non-null    int64  \n",
      " 18  PK       546 non-null    int64  \n",
      " 19  PKatt    546 non-null    int64  \n",
      " 20  xG       546 non-null    float64\n",
      " 21  npxG     546 non-null    float64\n",
      " 22  npxG/Sh  452 non-null    float64\n",
      " 23  G-xG     546 non-null    float64\n",
      " 24  np:G-xG  546 non-null    float64\n",
      " 25  Matches  546 non-null    object \n",
      "dtypes: float64(12), int64(9), object(5)\n",
      "memory usage: 111.0+ KB\n"
     ]
    }
   ],
   "source": [
    "df = pd.read_csv('ShootingStat.csv',encoding='latin-1')\n",
    "df.head()\n",
    "df.info()"
   ]
  },
  {
   "cell_type": "code",
   "execution_count": 25,
   "id": "4c354d07",
   "metadata": {},
   "outputs": [
    {
     "data": {
      "text/plain": [
       "True"
      ]
     },
     "execution_count": 25,
     "metadata": {},
     "output_type": "execute_result"
    }
   ],
   "source": [
    "df.isnull().values.any()\n"
   ]
  },
  {
   "cell_type": "code",
   "execution_count": 26,
   "id": "1a8df99d",
   "metadata": {},
   "outputs": [
    {
     "data": {
      "text/plain": [
       "Rk         False\n",
       "Player     False\n",
       "Nation     False\n",
       "Pos        False\n",
       "Squad      False\n",
       "Age        False\n",
       "Born       False\n",
       "90s        False\n",
       "Gls        False\n",
       "Sh         False\n",
       "SoT        False\n",
       "SoT%        True\n",
       "Sh/90      False\n",
       "SoT/90     False\n",
       "G/Sh        True\n",
       "G/SoT       True\n",
       "Dist        True\n",
       "FK         False\n",
       "PK         False\n",
       "PKatt      False\n",
       "xG         False\n",
       "npxG       False\n",
       "npxG/Sh     True\n",
       "G-xG       False\n",
       "np:G-xG    False\n",
       "Matches    False\n",
       "dtype: bool"
      ]
     },
     "execution_count": 26,
     "metadata": {},
     "output_type": "execute_result"
    }
   ],
   "source": [
    "df.isnull().any()"
   ]
  },
  {
   "cell_type": "code",
   "execution_count": 27,
   "id": "c57d4bd1",
   "metadata": {},
   "outputs": [
    {
     "name": "stdout",
     "output_type": "stream",
     "text": [
      "<class 'pandas.core.frame.DataFrame'>\n",
      "RangeIndex: 546 entries, 0 to 545\n",
      "Data columns (total 25 columns):\n",
      " #   Column      Non-Null Count  Dtype  \n",
      "---  ------      --------------  -----  \n",
      " 0   Rk          546 non-null    int64  \n",
      " 1   Player      546 non-null    object \n",
      " 2   Nation      546 non-null    object \n",
      " 3   Pos         546 non-null    object \n",
      " 4   Squad       546 non-null    object \n",
      " 5   Age         546 non-null    int64  \n",
      " 6   Born        546 non-null    int64  \n",
      " 7   90s         546 non-null    float64\n",
      " 8   SCA         546 non-null    int64  \n",
      " 9   SCA90       546 non-null    float64\n",
      " 10  PassLive    546 non-null    int64  \n",
      " 11  PassDead    546 non-null    int64  \n",
      " 12  Drib        546 non-null    int64  \n",
      " 13  Sh          546 non-null    int64  \n",
      " 14  Fld         546 non-null    int64  \n",
      " 15  Def         546 non-null    int64  \n",
      " 16  GCA         546 non-null    int64  \n",
      " 17  GCA90       546 non-null    float64\n",
      " 18  PassLive.1  546 non-null    int64  \n",
      " 19  PassDead.1  546 non-null    int64  \n",
      " 20  Drib.1      546 non-null    int64  \n",
      " 21  Sh.1        546 non-null    int64  \n",
      " 22  Fld.1       546 non-null    int64  \n",
      " 23  Def.1       546 non-null    int64  \n",
      " 24  Matches     546 non-null    object \n",
      "dtypes: float64(3), int64(17), object(5)\n",
      "memory usage: 106.8+ KB\n"
     ]
    }
   ],
   "source": [
    "df = pd.read_csv('ShotCreationAction.csv',encoding='latin-1')\n",
    "df.head()\n",
    "df.info()"
   ]
  },
  {
   "cell_type": "code",
   "execution_count": 28,
   "id": "2ec47d41",
   "metadata": {},
   "outputs": [
    {
     "data": {
      "text/plain": [
       "False"
      ]
     },
     "execution_count": 28,
     "metadata": {},
     "output_type": "execute_result"
    }
   ],
   "source": [
    "df.isnull().values.any()\n"
   ]
  },
  {
   "cell_type": "code",
   "execution_count": null,
   "id": "26fea856",
   "metadata": {},
   "outputs": [],
   "source": []
  }
 ],
 "metadata": {
  "kernelspec": {
   "display_name": "Python 3 (ipykernel)",
   "language": "python",
   "name": "python3"
  },
  "language_info": {
   "codemirror_mode": {
    "name": "ipython",
    "version": 3
   },
   "file_extension": ".py",
   "mimetype": "text/x-python",
   "name": "python",
   "nbconvert_exporter": "python",
   "pygments_lexer": "ipython3",
   "version": "3.9.12"
  }
 },
 "nbformat": 4,
 "nbformat_minor": 5
}
